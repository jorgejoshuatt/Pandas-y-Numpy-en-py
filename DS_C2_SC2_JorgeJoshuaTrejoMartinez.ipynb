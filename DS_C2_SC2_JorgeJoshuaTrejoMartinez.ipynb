{
  "nbformat": 4,
  "nbformat_minor": 0,
  "metadata": {
    "colab": {
      "provenance": [],
      "authorship_tag": "ABX9TyPWiTo3BxPLDEjaUEvRnS0B",
      "include_colab_link": true
    },
    "kernelspec": {
      "name": "python3",
      "display_name": "Python 3"
    },
    "language_info": {
      "name": "python"
    }
  },
  "cells": [
    {
      "cell_type": "markdown",
      "metadata": {
        "id": "view-in-github",
        "colab_type": "text"
      },
      "source": [
        "<a href=\"https://colab.research.google.com/github/jorgejoshuatt/Pandas-y-Numpy-en-py/blob/main/DS_C2_SC2_JorgeJoshuaTrejoMartinez.ipynb\" target=\"_parent\"><img src=\"https://colab.research.google.com/assets/colab-badge.svg\" alt=\"Open In Colab\"/></a>"
      ]
    },
    {
      "cell_type": "code",
      "execution_count": 4,
      "metadata": {
        "colab": {
          "base_uri": "https://localhost:8080/"
        },
        "id": "eTRnWOL4zhHd",
        "outputId": "b53ff2cd-fc61-41e0-ad2f-5d42ae3c5bd0"
      },
      "outputs": [
        {
          "output_type": "stream",
          "name": "stdout",
          "text": [
            "Información extraída:\n",
            "           country iso_code        date  total_vaccinations  \\\n",
            "0      Afghanistan      AFG  2021-02-22                 0.0   \n",
            "1      Afghanistan      AFG  2021-02-23                 NaN   \n",
            "2      Afghanistan      AFG  2021-02-24                 NaN   \n",
            "3      Afghanistan      AFG  2021-02-25                 NaN   \n",
            "4      Afghanistan      AFG  2021-02-26                 NaN   \n",
            "...            ...      ...         ...                 ...   \n",
            "86507     Zimbabwe      ZWE  2022-03-25           8691642.0   \n",
            "86508     Zimbabwe      ZWE  2022-03-26           8791728.0   \n",
            "86509     Zimbabwe      ZWE  2022-03-27           8845039.0   \n",
            "86510     Zimbabwe      ZWE  2022-03-28           8934360.0   \n",
            "86511     Zimbabwe      ZWE  2022-03-29           9039729.0   \n",
            "\n",
            "       people_vaccinated  people_fully_vaccinated  daily_vaccinations_raw  \\\n",
            "0                    0.0                      NaN                     NaN   \n",
            "1                    NaN                      NaN                     NaN   \n",
            "2                    NaN                      NaN                     NaN   \n",
            "3                    NaN                      NaN                     NaN   \n",
            "4                    NaN                      NaN                     NaN   \n",
            "...                  ...                      ...                     ...   \n",
            "86507          4814582.0                3473523.0                139213.0   \n",
            "86508          4886242.0                3487962.0                100086.0   \n",
            "86509          4918147.0                3493763.0                 53311.0   \n",
            "86510          4975433.0                3501493.0                 89321.0   \n",
            "86511          5053114.0                3510256.0                105369.0   \n",
            "\n",
            "       daily_vaccinations  total_vaccinations_per_hundred  \\\n",
            "0                     NaN                            0.00   \n",
            "1                  1367.0                             NaN   \n",
            "2                  1367.0                             NaN   \n",
            "3                  1367.0                             NaN   \n",
            "4                  1367.0                             NaN   \n",
            "...                   ...                             ...   \n",
            "86507             69579.0                           57.59   \n",
            "86508             83429.0                           58.25   \n",
            "86509             90629.0                           58.61   \n",
            "86510            100614.0                           59.20   \n",
            "86511            103751.0                           59.90   \n",
            "\n",
            "       people_vaccinated_per_hundred  people_fully_vaccinated_per_hundred  \\\n",
            "0                               0.00                                  NaN   \n",
            "1                                NaN                                  NaN   \n",
            "2                                NaN                                  NaN   \n",
            "3                                NaN                                  NaN   \n",
            "4                                NaN                                  NaN   \n",
            "...                              ...                                  ...   \n",
            "86507                          31.90                                23.02   \n",
            "86508                          32.38                                23.11   \n",
            "86509                          32.59                                23.15   \n",
            "86510                          32.97                                23.20   \n",
            "86511                          33.48                                23.26   \n",
            "\n",
            "       daily_vaccinations_per_million  \\\n",
            "0                                 NaN   \n",
            "1                                34.0   \n",
            "2                                34.0   \n",
            "3                                34.0   \n",
            "4                                34.0   \n",
            "...                               ...   \n",
            "86507                          4610.0   \n",
            "86508                          5528.0   \n",
            "86509                          6005.0   \n",
            "86510                          6667.0   \n",
            "86511                          6874.0   \n",
            "\n",
            "                                                vaccines  \\\n",
            "0      Johnson&Johnson, Oxford/AstraZeneca, Pfizer/Bi...   \n",
            "1      Johnson&Johnson, Oxford/AstraZeneca, Pfizer/Bi...   \n",
            "2      Johnson&Johnson, Oxford/AstraZeneca, Pfizer/Bi...   \n",
            "3      Johnson&Johnson, Oxford/AstraZeneca, Pfizer/Bi...   \n",
            "4      Johnson&Johnson, Oxford/AstraZeneca, Pfizer/Bi...   \n",
            "...                                                  ...   \n",
            "86507  Oxford/AstraZeneca, Sinopharm/Beijing, Sinovac...   \n",
            "86508  Oxford/AstraZeneca, Sinopharm/Beijing, Sinovac...   \n",
            "86509  Oxford/AstraZeneca, Sinopharm/Beijing, Sinovac...   \n",
            "86510  Oxford/AstraZeneca, Sinopharm/Beijing, Sinovac...   \n",
            "86511  Oxford/AstraZeneca, Sinopharm/Beijing, Sinovac...   \n",
            "\n",
            "                     source_name  \\\n",
            "0      World Health Organization   \n",
            "1      World Health Organization   \n",
            "2      World Health Organization   \n",
            "3      World Health Organization   \n",
            "4      World Health Organization   \n",
            "...                          ...   \n",
            "86507         Ministry of Health   \n",
            "86508         Ministry of Health   \n",
            "86509         Ministry of Health   \n",
            "86510         Ministry of Health   \n",
            "86511         Ministry of Health   \n",
            "\n",
            "                                          source_website  \n",
            "0                               https://covid19.who.int/  \n",
            "1                               https://covid19.who.int/  \n",
            "2                               https://covid19.who.int/  \n",
            "3                               https://covid19.who.int/  \n",
            "4                               https://covid19.who.int/  \n",
            "...                                                  ...  \n",
            "86507  https://www.arcgis.com/home/webmap/viewer.html...  \n",
            "86508  https://www.arcgis.com/home/webmap/viewer.html...  \n",
            "86509  https://www.arcgis.com/home/webmap/viewer.html...  \n",
            "86510  https://www.arcgis.com/home/webmap/viewer.html...  \n",
            "86511  https://www.arcgis.com/home/webmap/viewer.html...  \n",
            "\n",
            "[86512 rows x 15 columns]\n"
          ]
        }
      ],
      "source": [
        "import pandas as pd\n",
        "import numpy as np\n",
        "# a. Extraer la información del archivo.\n",
        "df_cv=pd.read_csv('./country_vaccinations.csv')\n",
        "print(f\"Información extraída:\\n{df_cv}\")"
      ]
    },
    {
      "cell_type": "code",
      "source": [
        "# b. Mostrar la estructura y tipos de datos de cada columna para identificar qué operaciones puedes realizar con cada una de ellas, asegurándote que las columnas con fechas sean del tipo datetime64.\n",
        "df_cv['date']=pd.to_datetime(df_cv['date'])\n",
        "df_cv.info()"
      ],
      "metadata": {
        "colab": {
          "base_uri": "https://localhost:8080/"
        },
        "id": "Sq41UIIj10WB",
        "outputId": "b0e43f71-e648-4f5b-d20a-9b582219841c"
      },
      "execution_count": 5,
      "outputs": [
        {
          "output_type": "stream",
          "name": "stdout",
          "text": [
            "<class 'pandas.core.frame.DataFrame'>\n",
            "RangeIndex: 86512 entries, 0 to 86511\n",
            "Data columns (total 15 columns):\n",
            " #   Column                               Non-Null Count  Dtype         \n",
            "---  ------                               --------------  -----         \n",
            " 0   country                              86512 non-null  object        \n",
            " 1   iso_code                             86512 non-null  object        \n",
            " 2   date                                 86512 non-null  datetime64[ns]\n",
            " 3   total_vaccinations                   43607 non-null  float64       \n",
            " 4   people_vaccinated                    41294 non-null  float64       \n",
            " 5   people_fully_vaccinated              38802 non-null  float64       \n",
            " 6   daily_vaccinations_raw               35362 non-null  float64       \n",
            " 7   daily_vaccinations                   86213 non-null  float64       \n",
            " 8   total_vaccinations_per_hundred       43607 non-null  float64       \n",
            " 9   people_vaccinated_per_hundred        41294 non-null  float64       \n",
            " 10  people_fully_vaccinated_per_hundred  38802 non-null  float64       \n",
            " 11  daily_vaccinations_per_million       86213 non-null  float64       \n",
            " 12  vaccines                             86512 non-null  object        \n",
            " 13  source_name                          86512 non-null  object        \n",
            " 14  source_website                       86512 non-null  object        \n",
            "dtypes: datetime64[ns](1), float64(9), object(5)\n",
            "memory usage: 9.9+ MB\n"
          ]
        }
      ]
    },
    {
      "cell_type": "code",
      "source": [
        "# c. Determinar la cantidad de vacunas aplicadas de cada compañía (con base en cómo lo reporta cada país en la columna vaccines, en otras palabras, agrupe por vaccines y realice la sumatoria).\n",
        "vacunas_array = np.concatenate(df_cv['vaccines'].str.split(', '))\n",
        "vacunas_contadas = pd.Series(vacunas_array).value_counts()\n",
        "print(f\"Vacunas por compañia:\\n{vacunas_contadas}\")"
      ],
      "metadata": {
        "colab": {
          "base_uri": "https://localhost:8080/"
        },
        "id": "JSN-SGNA10J5",
        "outputId": "f1a528b6-c377-4749-82e3-6bf664534cc3"
      },
      "execution_count": 6,
      "outputs": [
        {
          "output_type": "stream",
          "name": "stdout",
          "text": [
            "Vacunas por compañia:\n",
            "Oxford/AstraZeneca    71331\n",
            "Pfizer/BioNTech       64193\n",
            "Moderna               37417\n",
            "Johnson&Johnson       35949\n",
            "Sinopharm/Beijing     34638\n",
            "Sputnik V             23060\n",
            "Sinovac               19892\n",
            "Novavax                4935\n",
            "Covaxin                3435\n",
            "Sputnik Light          3116\n",
            "CanSino                3073\n",
            "Soberana02             1527\n",
            "Abdala                 1493\n",
            "ZF2001                 1008\n",
            "Sinopharm/Wuhan         919\n",
            "EpiVacCorona            660\n",
            "QazVac                  613\n",
            "Turkovac                441\n",
            "COVIran Barekat         415\n",
            "FAKHRAVAC               415\n",
            "Razi Cov Pars           415\n",
            "SpikoGen                415\n",
            "Medigen                 374\n",
            "Soberana Plus           320\n",
            "dtype: int64\n"
          ]
        }
      ]
    },
    {
      "cell_type": "code",
      "source": [
        "#d. Obtener la cantidad de vacunas aplicadas en todo el mundo.\n",
        "total_vacunas_mundo = int(np.sum(df_cv['total_vaccinations']))\n",
        "print(f\"{total_vacunas_mundo} vacunas aplicadas en todo el mundo\")"
      ],
      "metadata": {
        "colab": {
          "base_uri": "https://localhost:8080/"
        },
        "id": "vXkTc4d210HS",
        "outputId": "ce30a0cb-2c7b-404b-ad7a-e3b2aa062c84"
      },
      "execution_count": 7,
      "outputs": [
        {
          "output_type": "stream",
          "name": "stdout",
          "text": [
            "2002854013761 vacunas aplicadas en todo el mundo\n"
          ]
        }
      ]
    },
    {
      "cell_type": "code",
      "source": [
        "#e. Calcular el promedio de vacunas aplicadas por país.\n",
        "vacunas_por_pais = df_cv.groupby('country')['total_vaccinations'].sum()\n",
        "print(f\"Vacunas por país:\\n{vacunas_por_pais}\")"
      ],
      "metadata": {
        "colab": {
          "base_uri": "https://localhost:8080/"
        },
        "id": "mYYV2KqK1z_V",
        "outputId": "c10ac528-49af-45f5-bf2c-8740d2e7acc9"
      },
      "execution_count": 9,
      "outputs": [
        {
          "output_type": "stream",
          "name": "stdout",
          "text": [
            "Vacunas por país:\n",
            "country\n",
            "Afghanistan          1.180414e+08\n",
            "Albania              2.955405e+08\n",
            "Algeria              2.389461e+08\n",
            "Andorra              2.447643e+06\n",
            "Angola               3.887402e+08\n",
            "                         ...     \n",
            "Wales                1.810193e+09\n",
            "Wallis and Futuna    3.657170e+05\n",
            "Yemen                1.054691e+07\n",
            "Zambia               2.023574e+08\n",
            "Zimbabwe             1.589015e+09\n",
            "Name: total_vaccinations, Length: 223, dtype: float64\n"
          ]
        }
      ]
    },
    {
      "cell_type": "code",
      "source": [
        "#f. Determinar la cantidad de vacunas aplicadas el día 29/01/21 en todo el mundo.\n",
        "vacunas_290121 = int(df_cv[df_cv['date'] == '2021-01-29']['total_vaccinations'].sum())\n",
        "print(f\"Vacunas aplicadas en todo el mundo el 29/01/2021: {vacunas_290121}\")"
      ],
      "metadata": {
        "colab": {
          "base_uri": "https://localhost:8080/"
        },
        "id": "wUc4GUwM1z8k",
        "outputId": "2683dc8a-3af7-4611-eba6-5cba2a8063d7"
      },
      "execution_count": 10,
      "outputs": [
        {
          "output_type": "stream",
          "name": "stdout",
          "text": [
            "Vacunas aplicadas en todo el mundo el 29/01/2021: 82952931\n"
          ]
        }
      ]
    },
    {
      "cell_type": "code",
      "source": [
        "#g. Crear un dataframe nuevo denominado conDiferencias que contenga los datos originales y una columna derivada (diferencias) con las diferencias de aplicación entre las columnas daily_vaccionations y daily_vaccionations_raw.\n",
        "conDiferencias = df_cv.copy()\n",
        "conDiferencias['diferencias'] = conDiferencias['daily_vaccinations'] - conDiferencias['daily_vaccinations_raw']\n",
        "print(conDiferencias)"
      ],
      "metadata": {
        "colab": {
          "base_uri": "https://localhost:8080/"
        },
        "id": "kl_gOA8u1z5q",
        "outputId": "bccd7e46-ccf0-4546-e5dc-7c87676aebfc"
      },
      "execution_count": 11,
      "outputs": [
        {
          "output_type": "stream",
          "name": "stdout",
          "text": [
            "           country iso_code       date  total_vaccinations  people_vaccinated  \\\n",
            "0      Afghanistan      AFG 2021-02-22                 0.0                0.0   \n",
            "1      Afghanistan      AFG 2021-02-23                 NaN                NaN   \n",
            "2      Afghanistan      AFG 2021-02-24                 NaN                NaN   \n",
            "3      Afghanistan      AFG 2021-02-25                 NaN                NaN   \n",
            "4      Afghanistan      AFG 2021-02-26                 NaN                NaN   \n",
            "...            ...      ...        ...                 ...                ...   \n",
            "86507     Zimbabwe      ZWE 2022-03-25           8691642.0          4814582.0   \n",
            "86508     Zimbabwe      ZWE 2022-03-26           8791728.0          4886242.0   \n",
            "86509     Zimbabwe      ZWE 2022-03-27           8845039.0          4918147.0   \n",
            "86510     Zimbabwe      ZWE 2022-03-28           8934360.0          4975433.0   \n",
            "86511     Zimbabwe      ZWE 2022-03-29           9039729.0          5053114.0   \n",
            "\n",
            "       people_fully_vaccinated  daily_vaccinations_raw  daily_vaccinations  \\\n",
            "0                          NaN                     NaN                 NaN   \n",
            "1                          NaN                     NaN              1367.0   \n",
            "2                          NaN                     NaN              1367.0   \n",
            "3                          NaN                     NaN              1367.0   \n",
            "4                          NaN                     NaN              1367.0   \n",
            "...                        ...                     ...                 ...   \n",
            "86507                3473523.0                139213.0             69579.0   \n",
            "86508                3487962.0                100086.0             83429.0   \n",
            "86509                3493763.0                 53311.0             90629.0   \n",
            "86510                3501493.0                 89321.0            100614.0   \n",
            "86511                3510256.0                105369.0            103751.0   \n",
            "\n",
            "       total_vaccinations_per_hundred  people_vaccinated_per_hundred  \\\n",
            "0                                0.00                           0.00   \n",
            "1                                 NaN                            NaN   \n",
            "2                                 NaN                            NaN   \n",
            "3                                 NaN                            NaN   \n",
            "4                                 NaN                            NaN   \n",
            "...                               ...                            ...   \n",
            "86507                           57.59                          31.90   \n",
            "86508                           58.25                          32.38   \n",
            "86509                           58.61                          32.59   \n",
            "86510                           59.20                          32.97   \n",
            "86511                           59.90                          33.48   \n",
            "\n",
            "       people_fully_vaccinated_per_hundred  daily_vaccinations_per_million  \\\n",
            "0                                      NaN                             NaN   \n",
            "1                                      NaN                            34.0   \n",
            "2                                      NaN                            34.0   \n",
            "3                                      NaN                            34.0   \n",
            "4                                      NaN                            34.0   \n",
            "...                                    ...                             ...   \n",
            "86507                                23.02                          4610.0   \n",
            "86508                                23.11                          5528.0   \n",
            "86509                                23.15                          6005.0   \n",
            "86510                                23.20                          6667.0   \n",
            "86511                                23.26                          6874.0   \n",
            "\n",
            "                                                vaccines  \\\n",
            "0      Johnson&Johnson, Oxford/AstraZeneca, Pfizer/Bi...   \n",
            "1      Johnson&Johnson, Oxford/AstraZeneca, Pfizer/Bi...   \n",
            "2      Johnson&Johnson, Oxford/AstraZeneca, Pfizer/Bi...   \n",
            "3      Johnson&Johnson, Oxford/AstraZeneca, Pfizer/Bi...   \n",
            "4      Johnson&Johnson, Oxford/AstraZeneca, Pfizer/Bi...   \n",
            "...                                                  ...   \n",
            "86507  Oxford/AstraZeneca, Sinopharm/Beijing, Sinovac...   \n",
            "86508  Oxford/AstraZeneca, Sinopharm/Beijing, Sinovac...   \n",
            "86509  Oxford/AstraZeneca, Sinopharm/Beijing, Sinovac...   \n",
            "86510  Oxford/AstraZeneca, Sinopharm/Beijing, Sinovac...   \n",
            "86511  Oxford/AstraZeneca, Sinopharm/Beijing, Sinovac...   \n",
            "\n",
            "                     source_name  \\\n",
            "0      World Health Organization   \n",
            "1      World Health Organization   \n",
            "2      World Health Organization   \n",
            "3      World Health Organization   \n",
            "4      World Health Organization   \n",
            "...                          ...   \n",
            "86507         Ministry of Health   \n",
            "86508         Ministry of Health   \n",
            "86509         Ministry of Health   \n",
            "86510         Ministry of Health   \n",
            "86511         Ministry of Health   \n",
            "\n",
            "                                          source_website  diferencias  \n",
            "0                               https://covid19.who.int/          NaN  \n",
            "1                               https://covid19.who.int/          NaN  \n",
            "2                               https://covid19.who.int/          NaN  \n",
            "3                               https://covid19.who.int/          NaN  \n",
            "4                               https://covid19.who.int/          NaN  \n",
            "...                                                  ...          ...  \n",
            "86507  https://www.arcgis.com/home/webmap/viewer.html...     -69634.0  \n",
            "86508  https://www.arcgis.com/home/webmap/viewer.html...     -16657.0  \n",
            "86509  https://www.arcgis.com/home/webmap/viewer.html...      37318.0  \n",
            "86510  https://www.arcgis.com/home/webmap/viewer.html...      11293.0  \n",
            "86511  https://www.arcgis.com/home/webmap/viewer.html...      -1618.0  \n",
            "\n",
            "[86512 rows x 16 columns]\n"
          ]
        }
      ]
    },
    {
      "cell_type": "code",
      "source": [
        "#h. Obtener el periodo de tiempo entre el registro con fecha más reciente y el registro con fecha más antigua.\n",
        "fecha_mas_antigua = df_cv['date'].min()\n",
        "fecha_mas_reciente = df_cv['date'].max()\n",
        "periodo_de_tiempo = fecha_mas_reciente - fecha_mas_antigua\n",
        "print(f\"Periodo entre la fecha más antigua y la más reciente: {periodo_de_tiempo}\")"
      ],
      "metadata": {
        "colab": {
          "base_uri": "https://localhost:8080/"
        },
        "id": "ayR50gQO1z3C",
        "outputId": "248085e5-6ad8-4630-b698-cf69aa5a69f3"
      },
      "execution_count": 12,
      "outputs": [
        {
          "output_type": "stream",
          "name": "stdout",
          "text": [
            "Periodo entre la fecha más antigua y la más reciente: 482 days 00:00:00\n"
          ]
        }
      ]
    },
    {
      "cell_type": "code",
      "source": [
        "#i. Crear un dataframe nuevo denominado conCantidad que contenga los datos originales y una columna derivada (canVac) con la cantidad de vacunas utilizadas cada día (usar la columna vaccines y separar por el carácter , ).\n",
        "conCantidad = df_cv.copy()\n",
        "conCantidad['canVac'] = conCantidad['vaccines'].str.split(',').apply(len)\n",
        "print(conCantidad)"
      ],
      "metadata": {
        "colab": {
          "base_uri": "https://localhost:8080/"
        },
        "id": "YST8-4sM1z0j",
        "outputId": "d603a82d-9b39-4083-a43e-a1dcf08a283c"
      },
      "execution_count": 13,
      "outputs": [
        {
          "output_type": "stream",
          "name": "stdout",
          "text": [
            "           country iso_code       date  total_vaccinations  people_vaccinated  \\\n",
            "0      Afghanistan      AFG 2021-02-22                 0.0                0.0   \n",
            "1      Afghanistan      AFG 2021-02-23                 NaN                NaN   \n",
            "2      Afghanistan      AFG 2021-02-24                 NaN                NaN   \n",
            "3      Afghanistan      AFG 2021-02-25                 NaN                NaN   \n",
            "4      Afghanistan      AFG 2021-02-26                 NaN                NaN   \n",
            "...            ...      ...        ...                 ...                ...   \n",
            "86507     Zimbabwe      ZWE 2022-03-25           8691642.0          4814582.0   \n",
            "86508     Zimbabwe      ZWE 2022-03-26           8791728.0          4886242.0   \n",
            "86509     Zimbabwe      ZWE 2022-03-27           8845039.0          4918147.0   \n",
            "86510     Zimbabwe      ZWE 2022-03-28           8934360.0          4975433.0   \n",
            "86511     Zimbabwe      ZWE 2022-03-29           9039729.0          5053114.0   \n",
            "\n",
            "       people_fully_vaccinated  daily_vaccinations_raw  daily_vaccinations  \\\n",
            "0                          NaN                     NaN                 NaN   \n",
            "1                          NaN                     NaN              1367.0   \n",
            "2                          NaN                     NaN              1367.0   \n",
            "3                          NaN                     NaN              1367.0   \n",
            "4                          NaN                     NaN              1367.0   \n",
            "...                        ...                     ...                 ...   \n",
            "86507                3473523.0                139213.0             69579.0   \n",
            "86508                3487962.0                100086.0             83429.0   \n",
            "86509                3493763.0                 53311.0             90629.0   \n",
            "86510                3501493.0                 89321.0            100614.0   \n",
            "86511                3510256.0                105369.0            103751.0   \n",
            "\n",
            "       total_vaccinations_per_hundred  people_vaccinated_per_hundred  \\\n",
            "0                                0.00                           0.00   \n",
            "1                                 NaN                            NaN   \n",
            "2                                 NaN                            NaN   \n",
            "3                                 NaN                            NaN   \n",
            "4                                 NaN                            NaN   \n",
            "...                               ...                            ...   \n",
            "86507                           57.59                          31.90   \n",
            "86508                           58.25                          32.38   \n",
            "86509                           58.61                          32.59   \n",
            "86510                           59.20                          32.97   \n",
            "86511                           59.90                          33.48   \n",
            "\n",
            "       people_fully_vaccinated_per_hundred  daily_vaccinations_per_million  \\\n",
            "0                                      NaN                             NaN   \n",
            "1                                      NaN                            34.0   \n",
            "2                                      NaN                            34.0   \n",
            "3                                      NaN                            34.0   \n",
            "4                                      NaN                            34.0   \n",
            "...                                    ...                             ...   \n",
            "86507                                23.02                          4610.0   \n",
            "86508                                23.11                          5528.0   \n",
            "86509                                23.15                          6005.0   \n",
            "86510                                23.20                          6667.0   \n",
            "86511                                23.26                          6874.0   \n",
            "\n",
            "                                                vaccines  \\\n",
            "0      Johnson&Johnson, Oxford/AstraZeneca, Pfizer/Bi...   \n",
            "1      Johnson&Johnson, Oxford/AstraZeneca, Pfizer/Bi...   \n",
            "2      Johnson&Johnson, Oxford/AstraZeneca, Pfizer/Bi...   \n",
            "3      Johnson&Johnson, Oxford/AstraZeneca, Pfizer/Bi...   \n",
            "4      Johnson&Johnson, Oxford/AstraZeneca, Pfizer/Bi...   \n",
            "...                                                  ...   \n",
            "86507  Oxford/AstraZeneca, Sinopharm/Beijing, Sinovac...   \n",
            "86508  Oxford/AstraZeneca, Sinopharm/Beijing, Sinovac...   \n",
            "86509  Oxford/AstraZeneca, Sinopharm/Beijing, Sinovac...   \n",
            "86510  Oxford/AstraZeneca, Sinopharm/Beijing, Sinovac...   \n",
            "86511  Oxford/AstraZeneca, Sinopharm/Beijing, Sinovac...   \n",
            "\n",
            "                     source_name  \\\n",
            "0      World Health Organization   \n",
            "1      World Health Organization   \n",
            "2      World Health Organization   \n",
            "3      World Health Organization   \n",
            "4      World Health Organization   \n",
            "...                          ...   \n",
            "86507         Ministry of Health   \n",
            "86508         Ministry of Health   \n",
            "86509         Ministry of Health   \n",
            "86510         Ministry of Health   \n",
            "86511         Ministry of Health   \n",
            "\n",
            "                                          source_website  canVac  \n",
            "0                               https://covid19.who.int/       4  \n",
            "1                               https://covid19.who.int/       4  \n",
            "2                               https://covid19.who.int/       4  \n",
            "3                               https://covid19.who.int/       4  \n",
            "4                               https://covid19.who.int/       4  \n",
            "...                                                  ...     ...  \n",
            "86507  https://www.arcgis.com/home/webmap/viewer.html...       4  \n",
            "86508  https://www.arcgis.com/home/webmap/viewer.html...       4  \n",
            "86509  https://www.arcgis.com/home/webmap/viewer.html...       4  \n",
            "86510  https://www.arcgis.com/home/webmap/viewer.html...       4  \n",
            "86511  https://www.arcgis.com/home/webmap/viewer.html...       4  \n",
            "\n",
            "[86512 rows x 16 columns]\n"
          ]
        }
      ]
    },
    {
      "cell_type": "code",
      "source": [
        "#j. Generar un dataframe denominado antes20 con todos los registros que se hayan realizado antes del 20 de diciembre de 2020.\n",
        "antes20 = df_cv[df_cv['date'] < '2020-12-20']\n",
        "print(antes20)"
      ],
      "metadata": {
        "colab": {
          "base_uri": "https://localhost:8080/"
        },
        "id": "TZlAkvEV1zyS",
        "outputId": "0d575cfb-3357-41b5-886f-5c319c22201c"
      },
      "execution_count": 14,
      "outputs": [
        {
          "output_type": "stream",
          "name": "stdout",
          "text": [
            "             country iso_code       date  total_vaccinations  \\\n",
            "13403         Canada      CAN 2020-12-14                 5.0   \n",
            "13404         Canada      CAN 2020-12-15               727.0   \n",
            "13405         Canada      CAN 2020-12-16              3025.0   \n",
            "13406         Canada      CAN 2020-12-17              7279.0   \n",
            "13407         Canada      CAN 2020-12-18             11296.0   \n",
            "...              ...      ...        ...                 ...   \n",
            "82362  United States      USA 2020-12-15             84638.0   \n",
            "82363  United States      USA 2020-12-16            244549.0   \n",
            "82364  United States      USA 2020-12-17            517161.0   \n",
            "82365  United States      USA 2020-12-18            933551.0   \n",
            "82366  United States      USA 2020-12-19           1115437.0   \n",
            "\n",
            "       people_vaccinated  people_fully_vaccinated  daily_vaccinations_raw  \\\n",
            "13403                5.0                      NaN                     NaN   \n",
            "13404              727.0                      NaN                   722.0   \n",
            "13405             3025.0                      NaN                  2298.0   \n",
            "13406             7279.0                      NaN                  4254.0   \n",
            "13407            11296.0                      NaN                  4017.0   \n",
            "...                  ...                      ...                     ...   \n",
            "82362            76984.0                   6281.0                 49771.0   \n",
            "82363           231496.0                   6757.0                159911.0   \n",
            "82364           496980.0                   7507.0                272612.0   \n",
            "82365           904656.0                   8718.0                416390.0   \n",
            "82366          1082608.0                   9778.0                181886.0   \n",
            "\n",
            "       daily_vaccinations  total_vaccinations_per_hundred  \\\n",
            "13403                 NaN                            0.00   \n",
            "13404               722.0                            0.00   \n",
            "13405              1510.0                            0.01   \n",
            "13406              2425.0                            0.02   \n",
            "13407              2823.0                            0.03   \n",
            "...                   ...                             ...   \n",
            "82362             27175.0                            0.03   \n",
            "82363             71420.0                            0.07   \n",
            "82364            121718.0                            0.16   \n",
            "82365            180653.0                            0.28   \n",
            "82366            180858.0                            0.34   \n",
            "\n",
            "       people_vaccinated_per_hundred  people_fully_vaccinated_per_hundred  \\\n",
            "13403                           0.00                                  NaN   \n",
            "13404                           0.00                                  NaN   \n",
            "13405                           0.01                                  NaN   \n",
            "13406                           0.02                                  NaN   \n",
            "13407                           0.03                                  NaN   \n",
            "...                              ...                                  ...   \n",
            "82362                           0.02                                  0.0   \n",
            "82363                           0.07                                  0.0   \n",
            "82364                           0.15                                  0.0   \n",
            "82365                           0.27                                  0.0   \n",
            "82366                           0.33                                  0.0   \n",
            "\n",
            "       daily_vaccinations_per_million  \\\n",
            "13403                             NaN   \n",
            "13404                            19.0   \n",
            "13405                            40.0   \n",
            "13406                            64.0   \n",
            "13407                            74.0   \n",
            "...                               ...   \n",
            "82362                            82.0   \n",
            "82363                           215.0   \n",
            "82364                           367.0   \n",
            "82365                           544.0   \n",
            "82366                           545.0   \n",
            "\n",
            "                                                vaccines  \\\n",
            "13403  Johnson&Johnson, Moderna, Oxford/AstraZeneca, ...   \n",
            "13404  Johnson&Johnson, Moderna, Oxford/AstraZeneca, ...   \n",
            "13405  Johnson&Johnson, Moderna, Oxford/AstraZeneca, ...   \n",
            "13406  Johnson&Johnson, Moderna, Oxford/AstraZeneca, ...   \n",
            "13407  Johnson&Johnson, Moderna, Oxford/AstraZeneca, ...   \n",
            "...                                                  ...   \n",
            "82362          Johnson&Johnson, Moderna, Pfizer/BioNTech   \n",
            "82363          Johnson&Johnson, Moderna, Pfizer/BioNTech   \n",
            "82364          Johnson&Johnson, Moderna, Pfizer/BioNTech   \n",
            "82365          Johnson&Johnson, Moderna, Pfizer/BioNTech   \n",
            "82366          Johnson&Johnson, Moderna, Pfizer/BioNTech   \n",
            "\n",
            "                                             source_name  \\\n",
            "13403  Official data from provinces via covid19tracke...   \n",
            "13404  Official data from provinces via covid19tracke...   \n",
            "13405  Official data from provinces via covid19tracke...   \n",
            "13406  Official data from provinces via covid19tracke...   \n",
            "13407  Official data from provinces via covid19tracke...   \n",
            "...                                                  ...   \n",
            "82362         Centers for Disease Control and Prevention   \n",
            "82363         Centers for Disease Control and Prevention   \n",
            "82364         Centers for Disease Control and Prevention   \n",
            "82365         Centers for Disease Control and Prevention   \n",
            "82366         Centers for Disease Control and Prevention   \n",
            "\n",
            "                                          source_website  \n",
            "13403  https://covid19tracker.ca/vaccinationtracker.html  \n",
            "13404  https://covid19tracker.ca/vaccinationtracker.html  \n",
            "13405  https://covid19tracker.ca/vaccinationtracker.html  \n",
            "13406  https://covid19tracker.ca/vaccinationtracker.html  \n",
            "13407  https://covid19tracker.ca/vaccinationtracker.html  \n",
            "...                                                  ...  \n",
            "82362  https://data.cdc.gov/Vaccinations/COVID-19-Vac...  \n",
            "82363  https://data.cdc.gov/Vaccinations/COVID-19-Vac...  \n",
            "82364  https://data.cdc.gov/Vaccinations/COVID-19-Vac...  \n",
            "82365  https://data.cdc.gov/Vaccinations/COVID-19-Vac...  \n",
            "82366  https://data.cdc.gov/Vaccinations/COVID-19-Vac...  \n",
            "\n",
            "[70 rows x 15 columns]\n"
          ]
        }
      ]
    },
    {
      "cell_type": "code",
      "source": [
        "#k. Obtener un dataframe denominado pfizer con todos los registros donde se haya utilizado la vacuna Pfizer.\n",
        "pfizer = df_cv[df_cv['vaccines'].str.contains('Pfizer')]\n",
        "print(pfizer)"
      ],
      "metadata": {
        "colab": {
          "base_uri": "https://localhost:8080/"
        },
        "id": "T2Kq2EWJ1zoT",
        "outputId": "f1a4adf4-9ae3-47d2-9bc1-c29570a84dd8"
      },
      "execution_count": 15,
      "outputs": [
        {
          "output_type": "stream",
          "name": "stdout",
          "text": [
            "           country  iso_code       date  total_vaccinations  \\\n",
            "0      Afghanistan       AFG 2021-02-22                 0.0   \n",
            "1      Afghanistan       AFG 2021-02-23                 NaN   \n",
            "2      Afghanistan       AFG 2021-02-24                 NaN   \n",
            "3      Afghanistan       AFG 2021-02-25                 NaN   \n",
            "4      Afghanistan       AFG 2021-02-26                 NaN   \n",
            "...            ...       ...        ...                 ...   \n",
            "85069        Wales  OWID_WLS 2022-03-24           6921195.0   \n",
            "85070        Wales  OWID_WLS 2022-03-25           6923298.0   \n",
            "85071        Wales  OWID_WLS 2022-03-26           6923706.0   \n",
            "85072        Wales  OWID_WLS 2022-03-27           6925183.0   \n",
            "85073        Wales  OWID_WLS 2022-03-28           6927437.0   \n",
            "\n",
            "       people_vaccinated  people_fully_vaccinated  daily_vaccinations_raw  \\\n",
            "0                    0.0                      NaN                     NaN   \n",
            "1                    NaN                      NaN                     NaN   \n",
            "2                    NaN                      NaN                     NaN   \n",
            "3                    NaN                      NaN                     NaN   \n",
            "4                    NaN                      NaN                     NaN   \n",
            "...                  ...                      ...                     ...   \n",
            "85069          2526832.0                2397677.0                  1756.0   \n",
            "85070          2527100.0                2398097.0                  2103.0   \n",
            "85071          2527184.0                2398322.0                   408.0   \n",
            "85072          2528051.0                2398676.0                  1477.0   \n",
            "85073          2528664.0                2399341.0                  2254.0   \n",
            "\n",
            "       daily_vaccinations  total_vaccinations_per_hundred  \\\n",
            "0                     NaN                            0.00   \n",
            "1                  1367.0                             NaN   \n",
            "2                  1367.0                             NaN   \n",
            "3                  1367.0                             NaN   \n",
            "4                  1367.0                             NaN   \n",
            "...                   ...                             ...   \n",
            "85069              1705.0                          218.33   \n",
            "85070              1667.0                          218.40   \n",
            "85071              1519.0                          218.41   \n",
            "85072              1505.0                          218.46   \n",
            "85073              1609.0                          218.53   \n",
            "\n",
            "       people_vaccinated_per_hundred  people_fully_vaccinated_per_hundred  \\\n",
            "0                               0.00                                  NaN   \n",
            "1                                NaN                                  NaN   \n",
            "2                                NaN                                  NaN   \n",
            "3                                NaN                                  NaN   \n",
            "4                                NaN                                  NaN   \n",
            "...                              ...                                  ...   \n",
            "85069                          79.71                                75.64   \n",
            "85070                          79.72                                75.65   \n",
            "85071                          79.72                                75.66   \n",
            "85072                          79.75                                75.67   \n",
            "85073                          79.77                                75.69   \n",
            "\n",
            "       daily_vaccinations_per_million  \\\n",
            "0                                 NaN   \n",
            "1                                34.0   \n",
            "2                                34.0   \n",
            "3                                34.0   \n",
            "4                                34.0   \n",
            "...                               ...   \n",
            "85069                           538.0   \n",
            "85070                           526.0   \n",
            "85071                           479.0   \n",
            "85072                           475.0   \n",
            "85073                           508.0   \n",
            "\n",
            "                                                vaccines  \\\n",
            "0      Johnson&Johnson, Oxford/AstraZeneca, Pfizer/Bi...   \n",
            "1      Johnson&Johnson, Oxford/AstraZeneca, Pfizer/Bi...   \n",
            "2      Johnson&Johnson, Oxford/AstraZeneca, Pfizer/Bi...   \n",
            "3      Johnson&Johnson, Oxford/AstraZeneca, Pfizer/Bi...   \n",
            "4      Johnson&Johnson, Oxford/AstraZeneca, Pfizer/Bi...   \n",
            "...                                                  ...   \n",
            "85069       Moderna, Oxford/AstraZeneca, Pfizer/BioNTech   \n",
            "85070       Moderna, Oxford/AstraZeneca, Pfizer/BioNTech   \n",
            "85071       Moderna, Oxford/AstraZeneca, Pfizer/BioNTech   \n",
            "85072       Moderna, Oxford/AstraZeneca, Pfizer/BioNTech   \n",
            "85073       Moderna, Oxford/AstraZeneca, Pfizer/BioNTech   \n",
            "\n",
            "                            source_name  \\\n",
            "0             World Health Organization   \n",
            "1             World Health Organization   \n",
            "2             World Health Organization   \n",
            "3             World Health Organization   \n",
            "4             World Health Organization   \n",
            "...                                 ...   \n",
            "85069  Government of the United Kingdom   \n",
            "85070  Government of the United Kingdom   \n",
            "85071  Government of the United Kingdom   \n",
            "85072  Government of the United Kingdom   \n",
            "85073  Government of the United Kingdom   \n",
            "\n",
            "                                          source_website  \n",
            "0                               https://covid19.who.int/  \n",
            "1                               https://covid19.who.int/  \n",
            "2                               https://covid19.who.int/  \n",
            "3                               https://covid19.who.int/  \n",
            "4                               https://covid19.who.int/  \n",
            "...                                                  ...  \n",
            "85069  https://coronavirus.data.gov.uk/details/vaccin...  \n",
            "85070  https://coronavirus.data.gov.uk/details/vaccin...  \n",
            "85071  https://coronavirus.data.gov.uk/details/vaccin...  \n",
            "85072  https://coronavirus.data.gov.uk/details/vaccin...  \n",
            "85073  https://coronavirus.data.gov.uk/details/vaccin...  \n",
            "\n",
            "[64193 rows x 15 columns]\n"
          ]
        }
      ]
    },
    {
      "cell_type": "code",
      "source": [
        "#l. Almacenar los dataframes generados (conDiferencias, conCantidad, antes20 y pfizer) en un archivo de Excel denominado resultadosReto.xlsx, donde cada dataframe ocupe una hoja diferente. Se recomienda ver la documentación de pd.ExcelWriter.\n",
        "with pd.ExcelWriter(\"resultadosReto.xlsx\") as writer:\n",
        "    conDiferencias.to_excel(writer, sheet_name='conDiferencias', index=False)\n",
        "    conCantidad.to_excel(writer, sheet_name='conCantidad', index=False)\n",
        "    antes20.to_excel(writer, sheet_name='antes20', index=False)\n",
        "    pfizer.to_excel(writer, sheet_name='pfizer', index=False)"
      ],
      "metadata": {
        "id": "Pl1bAH2S1zlx"
      },
      "execution_count": 17,
      "outputs": []
    }
  ]
}